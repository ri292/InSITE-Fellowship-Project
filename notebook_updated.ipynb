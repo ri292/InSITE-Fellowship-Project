{
 "cells": [
  {
   "cell_type": "code",
   "execution_count": 1,
   "metadata": {},
   "outputs": [],
   "source": [
    "import pandas as pd\n",
    "import numpy as np\n",
    "import math"
   ]
  },
  {
   "cell_type": "code",
   "execution_count": 5,
   "metadata": {},
   "outputs": [],
   "source": [
    "import copy"
   ]
  },
  {
   "cell_type": "markdown",
   "metadata": {},
   "source": [
    "## Load data"
   ]
  },
  {
   "cell_type": "code",
   "execution_count": 7,
   "metadata": {},
   "outputs": [],
   "source": [
    "active_location = pd.read_excel('Active Locations.xlsx')\n",
    "#parking_garage = pd.read_csv('parking_garage_list.csv', delimiter='\\t').drop(['Unnamed: 0'], axis=1)\n",
    "parking_garage = pd.read_csv('parking_garage_list.csv', delimiter='\\t')"
   ]
  },
  {
   "cell_type": "code",
   "execution_count": null,
   "metadata": {},
   "outputs": [],
   "source": [
    "parking_garage.head(1)"
   ]
  },
  {
   "cell_type": "code",
   "execution_count": 58,
   "metadata": {},
   "outputs": [
    {
     "data": {
      "text/plain": [
       "(1791, 17)"
      ]
     },
     "execution_count": 58,
     "metadata": {},
     "output_type": "execute_result"
    }
   ],
   "source": [
    "parking_garage.shape"
   ]
  },
  {
   "cell_type": "code",
   "execution_count": 59,
   "metadata": {},
   "outputs": [
    {
     "data": {
      "text/plain": [
       "(838, 12)"
      ]
     },
     "execution_count": 59,
     "metadata": {},
     "output_type": "execute_result"
    }
   ],
   "source": [
    "active_location.shape"
   ]
  },
  {
   "cell_type": "markdown",
   "metadata": {},
   "source": [
    "## Clean data"
   ]
  },
  {
   "cell_type": "code",
   "execution_count": 46,
   "metadata": {},
   "outputs": [],
   "source": [
    "# Drop NaN column in active_location\n",
    "active_location = active_location[~active_location['Address 1'].isna()]"
   ]
  },
  {
   "cell_type": "code",
   "execution_count": 47,
   "metadata": {},
   "outputs": [
    {
     "data": {
      "text/plain": [
       "ST            996\n",
       "AVE           490\n",
       "BLVD           75\n",
       "BROADWAY       37\n",
       "PL             22\n",
       "W              19\n",
       "AMERICAS       18\n",
       "S              16\n",
       "RD             14\n",
       "PLZ            14\n",
       "TER            11\n",
       "STREET         10\n",
       "CONCOURSE      10\n",
       "C               9\n",
       "PKWY            7\n",
       "DR              7\n",
       "AVENUE          4\n",
       "LN              3\n",
       "SQ              3\n",
       "EXT             3\n",
       "CIR             2\n",
       "ROW             2\n",
       "BOWERY          2\n",
       "BOULEVARD       2\n",
       "820             1\n",
       "TPKE            1\n",
       "HWY             1\n",
       "PLACE           1\n",
       "Street          1\n",
       "CITY            1\n",
       "Avenue          1\n",
       "N               1\n",
       "EXPY            1\n",
       "HTS             1\n",
       "SLIP            1\n",
       "E               1\n",
       "EXPRESSWAY      1\n",
       "H               1\n",
       "PLAZA           1\n",
       "Name: Address, dtype: int64"
      ]
     },
     "execution_count": 47,
     "metadata": {},
     "output_type": "execute_result"
    }
   ],
   "source": [
    "parking_garage['Address'] = parking_garage[['Address Building', 'Address Street Name']].apply(lambda x: x[0] + ' ' + x[1], axis=1)\n",
    "parking_garage['Address'].apply(lambda x: x.split(' ')[-1]).value_counts()"
   ]
  },
  {
   "cell_type": "markdown",
   "metadata": {},
   "source": [
    "#### Create common street abbreviations"
   ]
  },
  {
   "cell_type": "code",
   "execution_count": 48,
   "metadata": {},
   "outputs": [],
   "source": [
    "street_abbreviation_mapping = { \n",
    "    'aly' : 'Alley',\n",
    "    'ave' : 'Avenue',\n",
    "    'blv' : 'Boulevard',\n",
    "    'blvd' : 'Boulevard',\n",
    "    'blvd.' : 'Boulevard',\n",
    "    'cir' : 'Circle',\n",
    "    'ct' : 'Court',\n",
    "    'cv' : 'Cove',\n",
    "    'cyn' : 'Canyon',\n",
    "    'dr' : 'Drive',\n",
    "    'expy' : 'Expressway',\n",
    "    'hwy' : 'Highway',\n",
    "    'ln' : 'Lane',\n",
    "    'pkwy' : 'Parkway',\n",
    "    'pkwy.' : 'Parkway',\n",
    "    'parkwy' : 'Parkway',\n",
    "    'pl' : 'Place',\n",
    "    'pt' : 'Point',\n",
    "    'rd' : 'Road',\n",
    "    'sq' : 'Square',\n",
    "    'st' : 'Street',\n",
    "    'ter' : 'Terrace',\n",
    "    'tr' : 'Trail',\n",
    "    'trl' : 'Trail',\n",
    "    'wy' : 'Way'\n",
    "}\n",
    "\n",
    "direction_abbreviation_mapping = {\n",
    "    'w': 'West',\n",
    "    'e': 'East',\n",
    "    's': 'South',\n",
    "    'n': 'North'\n",
    "}\n",
    "\n",
    "street_abbreviation_mapping = {' ' + k.upper(): ' ' + v.upper() for (k, v) in street_abbreviation_mapping.items()}\n",
    "direction_abbreviation_mapping = {' ' + k.upper() + ' ':' ' + v.upper() + ' ' for (k, v) in direction_abbreviation_mapping.items()}"
   ]
  },
  {
   "cell_type": "code",
   "execution_count": 49,
   "metadata": {},
   "outputs": [],
   "source": [
    "def replace_abbreviation(address, street_mapping, direction_mapping):\n",
    "    new_address = address\n",
    "    for k, v in direction_mapping.items():\n",
    "        new_address = new_address.replace(k, v, 1)\n",
    "    count = 0\n",
    "    for k, v in street_mapping.items():\n",
    "        if count >= 1:\n",
    "            break\n",
    "        tmp = new_address.replace(k, v, 1)\n",
    "        if tmp != new_address:\n",
    "            new_address = tmp\n",
    "            count += 1\n",
    "    return new_address"
   ]
  },
  {
   "cell_type": "code",
   "execution_count": 50,
   "metadata": {},
   "outputs": [
    {
     "data": {
      "text/plain": [
       "0            219 EAST 69TH STREET\n",
       "1              2 NORTH 6TH STREET\n",
       "2            219 EAST 69TH STREET\n",
       "3                74 DEKALB AVENUE\n",
       "4        220 RIVERSIDE BOULEVARDD\n",
       "                  ...            \n",
       "1786         201 WEST 75TH STREET\n",
       "1787       9525 QUEENS BOULEVARDD\n",
       "1788    3720 HENRY HUDSON PARKWAY\n",
       "1789         55B RICHMOND TERRACE\n",
       "1790             800 BRADY AVENUE\n",
       "Name: Address, Length: 1791, dtype: object"
      ]
     },
     "execution_count": 50,
     "metadata": {},
     "output_type": "execute_result"
    }
   ],
   "source": [
    "parking_garage['Address'] = parking_garage['Address'].apply(lambda s: replace_abbreviation(s, street_abbreviation_mapping, direction_abbreviation_mapping))\n",
    "parking_garage['Address']"
   ]
  },
  {
   "cell_type": "code",
   "execution_count": 51,
   "metadata": {},
   "outputs": [],
   "source": [
    "# now lower case addresses in both datasets\n",
    "parking_garage['Address'] = parking_garage['Address'].apply(lambda s: s.lower())\n",
    "active_location['Address'] = active_location['Address 1'].apply(lambda s: s.lower())\n",
    "\n",
    "# parking_garage['zipcode'] = parking_garage['Address ZIP']\n",
    "# active_location['zipcode'] = active_location['ZIP Code']"
   ]
  },
  {
   "cell_type": "code",
   "execution_count": 52,
   "metadata": {},
   "outputs": [
    {
     "data": {
      "text/html": [
       "<div>\n",
       "<style scoped>\n",
       "    .dataframe tbody tr th:only-of-type {\n",
       "        vertical-align: middle;\n",
       "    }\n",
       "\n",
       "    .dataframe tbody tr th {\n",
       "        vertical-align: top;\n",
       "    }\n",
       "\n",
       "    .dataframe thead th {\n",
       "        text-align: right;\n",
       "    }\n",
       "</style>\n",
       "<table border=\"1\" class=\"dataframe\">\n",
       "  <thead>\n",
       "    <tr style=\"text-align: right;\">\n",
       "      <th></th>\n",
       "      <th>Unnamed: 0</th>\n",
       "      <th>DCA License Number</th>\n",
       "      <th>License Type</th>\n",
       "      <th>License Expiration Date</th>\n",
       "      <th>Business Name</th>\n",
       "      <th>Business Name 2</th>\n",
       "      <th>Address Building</th>\n",
       "      <th>Address Street Name</th>\n",
       "      <th>Secondary Address Street Name</th>\n",
       "      <th>Address City</th>\n",
       "      <th>Address State</th>\n",
       "      <th>Address ZIP</th>\n",
       "      <th>Contact Phone Number</th>\n",
       "      <th>Address Borough</th>\n",
       "      <th>Borough Code</th>\n",
       "      <th>Address</th>\n",
       "      <th>zipcode</th>\n",
       "    </tr>\n",
       "  </thead>\n",
       "  <tbody>\n",
       "    <tr>\n",
       "      <td>0</td>\n",
       "      <td>NaN</td>\n",
       "      <td>1306493-DCA</td>\n",
       "      <td>Business</td>\n",
       "      <td>3/31/21</td>\n",
       "      <td>69 ENTERPRISE PARKING LLC</td>\n",
       "      <td>NaN</td>\n",
       "      <td>219</td>\n",
       "      <td>E 69TH ST</td>\n",
       "      <td>NaN</td>\n",
       "      <td>NEW YORK</td>\n",
       "      <td>NY</td>\n",
       "      <td>10021.0</td>\n",
       "      <td>2126270012</td>\n",
       "      <td>Manhattan</td>\n",
       "      <td>1.0</td>\n",
       "      <td>219 east 69th street</td>\n",
       "      <td>10021.0</td>\n",
       "    </tr>\n",
       "  </tbody>\n",
       "</table>\n",
       "</div>"
      ],
      "text/plain": [
       "  Unnamed: 0 DCA License Number License Type License Expiration Date  \\\n",
       "0        NaN        1306493-DCA     Business                 3/31/21   \n",
       "\n",
       "               Business Name Business Name 2 Address Building  \\\n",
       "0  69 ENTERPRISE PARKING LLC             NaN              219   \n",
       "\n",
       "  Address Street Name Secondary Address Street Name Address City  \\\n",
       "0           E 69TH ST                           NaN     NEW YORK   \n",
       "\n",
       "  Address State  Address ZIP Contact Phone Number Address Borough  \\\n",
       "0            NY      10021.0           2126270012       Manhattan   \n",
       "\n",
       "   Borough Code               Address  zipcode  \n",
       "0           1.0  219 east 69th street  10021.0  "
      ]
     },
     "execution_count": 52,
     "metadata": {},
     "output_type": "execute_result"
    }
   ],
   "source": [
    "parking_garage.head(1)"
   ]
  },
  {
   "cell_type": "code",
   "execution_count": 53,
   "metadata": {},
   "outputs": [
    {
     "data": {
      "text/html": [
       "<div>\n",
       "<style scoped>\n",
       "    .dataframe tbody tr th:only-of-type {\n",
       "        vertical-align: middle;\n",
       "    }\n",
       "\n",
       "    .dataframe tbody tr th {\n",
       "        vertical-align: top;\n",
       "    }\n",
       "\n",
       "    .dataframe thead th {\n",
       "        text-align: right;\n",
       "    }\n",
       "</style>\n",
       "<table border=\"1\" class=\"dataframe\">\n",
       "  <thead>\n",
       "    <tr style=\"text-align: right;\">\n",
       "      <th></th>\n",
       "      <th>Location</th>\n",
       "      <th>Name</th>\n",
       "      <th>Phone 1</th>\n",
       "      <th>Address 1</th>\n",
       "      <th>City</th>\n",
       "      <th>State</th>\n",
       "      <th>ZIP Code</th>\n",
       "      <th>Software</th>\n",
       "      <th>Zone</th>\n",
       "      <th>OS Version</th>\n",
       "      <th>Address</th>\n",
       "      <th>zipcode</th>\n",
       "    </tr>\n",
       "  </thead>\n",
       "  <tbody>\n",
       "    <tr>\n",
       "      <td>0</td>\n",
       "      <td>ABC000</td>\n",
       "      <td>Main Office</td>\n",
       "      <td>212-736-7171</td>\n",
       "      <td>107 West 13th Street</td>\n",
       "      <td>New York</td>\n",
       "      <td>New York</td>\n",
       "      <td>10011</td>\n",
       "      <td>NaN</td>\n",
       "      <td>Not a garage</td>\n",
       "      <td>NaN</td>\n",
       "      <td>107 west 13th street</td>\n",
       "      <td>10011</td>\n",
       "    </tr>\n",
       "  </tbody>\n",
       "</table>\n",
       "</div>"
      ],
      "text/plain": [
       "  Location         Name       Phone 1             Address 1      City  \\\n",
       "0   ABC000  Main Office  212-736-7171  107 West 13th Street  New York   \n",
       "\n",
       "      State ZIP Code Software          Zone OS Version               Address  \\\n",
       "0  New York    10011      NaN  Not a garage        NaN  107 west 13th street   \n",
       "\n",
       "  zipcode  \n",
       "0   10011  "
      ]
     },
     "execution_count": 53,
     "metadata": {},
     "output_type": "execute_result"
    }
   ],
   "source": [
    "active_location.head(1)"
   ]
  },
  {
   "cell_type": "code",
   "execution_count": 62,
   "metadata": {},
   "outputs": [],
   "source": [
    "# pd.merge(parking_garage, active_location, on=['Address'])[['Business Name', 'Address Building', 'Address Street Name', 'Address', 'Address ZIP', \n",
    "#                                                            'Name', 'Address 1', 'ZIP Code']]\n",
    "\n",
    "# https://pandas.pydata.org/pandas-docs/stable/user_guide/merging.html\n",
    "joined = pd.merge(parking_garage, active_location, on=['Address'])\n"
   ]
  },
  {
   "cell_type": "code",
   "execution_count": 64,
   "metadata": {},
   "outputs": [],
   "source": [
    "parking_garage['label'] = parking_garage['DCA License Number'].isin(joined['DCA License Number'])"
   ]
  },
  {
   "cell_type": "code",
   "execution_count": 68,
   "metadata": {},
   "outputs": [],
   "source": [
    "parking_garage.to_csv('./parking_garage_labeled.csv')"
   ]
  },
  {
   "cell_type": "code",
   "execution_count": null,
   "metadata": {},
   "outputs": [],
   "source": []
  },
  {
   "cell_type": "code",
   "execution_count": null,
   "metadata": {},
   "outputs": [],
   "source": []
  },
  {
   "cell_type": "code",
   "execution_count": null,
   "metadata": {},
   "outputs": [],
   "source": []
  },
  {
   "cell_type": "code",
   "execution_count": null,
   "metadata": {},
   "outputs": [],
   "source": []
  },
  {
   "cell_type": "code",
   "execution_count": null,
   "metadata": {},
   "outputs": [],
   "source": []
  },
  {
   "cell_type": "code",
   "execution_count": null,
   "metadata": {},
   "outputs": [],
   "source": []
  },
  {
   "cell_type": "code",
   "execution_count": null,
   "metadata": {},
   "outputs": [],
   "source": []
  },
  {
   "cell_type": "code",
   "execution_count": 57,
   "metadata": {
    "scrolled": true
   },
   "outputs": [
    {
     "data": {
      "text/plain": [
       "0            219 east 69th street\n",
       "1              2 north 6th street\n",
       "2            219 east 69th street\n",
       "3                74 dekalb avenue\n",
       "4        220 riverside boulevardd\n",
       "                  ...            \n",
       "1786         201 west 75th street\n",
       "1787       9525 queens boulevardd\n",
       "1788    3720 henry hudson parkway\n",
       "1789         55b richmond terrace\n",
       "1790             800 brady avenue\n",
       "Name: Address, Length: 1791, dtype: object"
      ]
     },
     "execution_count": 57,
     "metadata": {},
     "output_type": "execute_result"
    }
   ],
   "source": [
    "parking_garage['Address']"
   ]
  },
  {
   "cell_type": "code",
   "execution_count": 58,
   "metadata": {},
   "outputs": [
    {
     "data": {
      "text/plain": [
       "0        107 West 13th Street\n",
       "1        100 West 89th Street\n",
       "2        520 West 43rd Street\n",
       "3             59 Allen Street\n",
       "4      2600 Netherland Avenue\n",
       "                ...          \n",
       "837           101 Arch Street\n",
       "838    2155 East Tremont Ave.\n",
       "839            800 5th Avenue\n",
       "840      450 East 83rd Street\n",
       "841          80 DeKalb Avenue\n",
       "Name: Address 1, Length: 842, dtype: object"
      ]
     },
     "execution_count": 58,
     "metadata": {},
     "output_type": "execute_result"
    }
   ],
   "source": [
    "active_location['Address 1']"
   ]
  },
  {
   "cell_type": "code",
   "execution_count": 59,
   "metadata": {},
   "outputs": [
    {
     "data": {
      "text/plain": [
       "pandas.core.frame.DataFrame"
      ]
     },
     "execution_count": 59,
     "metadata": {},
     "output_type": "execute_result"
    }
   ],
   "source": [
    "type(active_location)"
   ]
  },
  {
   "cell_type": "code",
   "execution_count": 60,
   "metadata": {},
   "outputs": [
    {
     "ename": "PermissionError",
     "evalue": "[Errno 13] Permission denied: 'active_location.csv'",
     "output_type": "error",
     "traceback": [
      "\u001b[1;31m---------------------------------------------------------------------------\u001b[0m",
      "\u001b[1;31mPermissionError\u001b[0m                           Traceback (most recent call last)",
      "\u001b[1;32m<ipython-input-60-f89ab6b74830>\u001b[0m in \u001b[0;36m<module>\u001b[1;34m\u001b[0m\n\u001b[1;32m----> 1\u001b[1;33m \u001b[0mactive_location\u001b[0m\u001b[1;33m.\u001b[0m\u001b[0mto_csv\u001b[0m\u001b[1;33m(\u001b[0m\u001b[1;34m\"active_location.csv\"\u001b[0m\u001b[1;33m)\u001b[0m\u001b[1;33m\u001b[0m\u001b[1;33m\u001b[0m\u001b[0m\n\u001b[0m",
      "\u001b[1;32m~\\Anaconda3\\lib\\site-packages\\pandas\\core\\generic.py\u001b[0m in \u001b[0;36mto_csv\u001b[1;34m(self, path_or_buf, sep, na_rep, float_format, columns, header, index, index_label, mode, encoding, compression, quoting, quotechar, line_terminator, chunksize, date_format, doublequote, escapechar, decimal)\u001b[0m\n\u001b[0;32m   3226\u001b[0m             \u001b[0mdecimal\u001b[0m\u001b[1;33m=\u001b[0m\u001b[0mdecimal\u001b[0m\u001b[1;33m,\u001b[0m\u001b[1;33m\u001b[0m\u001b[1;33m\u001b[0m\u001b[0m\n\u001b[0;32m   3227\u001b[0m         )\n\u001b[1;32m-> 3228\u001b[1;33m         \u001b[0mformatter\u001b[0m\u001b[1;33m.\u001b[0m\u001b[0msave\u001b[0m\u001b[1;33m(\u001b[0m\u001b[1;33m)\u001b[0m\u001b[1;33m\u001b[0m\u001b[1;33m\u001b[0m\u001b[0m\n\u001b[0m\u001b[0;32m   3229\u001b[0m \u001b[1;33m\u001b[0m\u001b[0m\n\u001b[0;32m   3230\u001b[0m         \u001b[1;32mif\u001b[0m \u001b[0mpath_or_buf\u001b[0m \u001b[1;32mis\u001b[0m \u001b[1;32mNone\u001b[0m\u001b[1;33m:\u001b[0m\u001b[1;33m\u001b[0m\u001b[1;33m\u001b[0m\u001b[0m\n",
      "\u001b[1;32m~\\Anaconda3\\lib\\site-packages\\pandas\\io\\formats\\csvs.py\u001b[0m in \u001b[0;36msave\u001b[1;34m(self)\u001b[0m\n\u001b[0;32m    181\u001b[0m                 \u001b[0mself\u001b[0m\u001b[1;33m.\u001b[0m\u001b[0mmode\u001b[0m\u001b[1;33m,\u001b[0m\u001b[1;33m\u001b[0m\u001b[1;33m\u001b[0m\u001b[0m\n\u001b[0;32m    182\u001b[0m                 \u001b[0mencoding\u001b[0m\u001b[1;33m=\u001b[0m\u001b[0mself\u001b[0m\u001b[1;33m.\u001b[0m\u001b[0mencoding\u001b[0m\u001b[1;33m,\u001b[0m\u001b[1;33m\u001b[0m\u001b[1;33m\u001b[0m\u001b[0m\n\u001b[1;32m--> 183\u001b[1;33m                 \u001b[0mcompression\u001b[0m\u001b[1;33m=\u001b[0m\u001b[0mself\u001b[0m\u001b[1;33m.\u001b[0m\u001b[0mcompression\u001b[0m\u001b[1;33m,\u001b[0m\u001b[1;33m\u001b[0m\u001b[1;33m\u001b[0m\u001b[0m\n\u001b[0m\u001b[0;32m    184\u001b[0m             )\n\u001b[0;32m    185\u001b[0m             \u001b[0mclose\u001b[0m \u001b[1;33m=\u001b[0m \u001b[1;32mTrue\u001b[0m\u001b[1;33m\u001b[0m\u001b[1;33m\u001b[0m\u001b[0m\n",
      "\u001b[1;32m~\\Anaconda3\\lib\\site-packages\\pandas\\io\\common.py\u001b[0m in \u001b[0;36m_get_handle\u001b[1;34m(path_or_buf, mode, encoding, compression, memory_map, is_text)\u001b[0m\n\u001b[0;32m    397\u001b[0m         \u001b[1;32mif\u001b[0m \u001b[0mencoding\u001b[0m\u001b[1;33m:\u001b[0m\u001b[1;33m\u001b[0m\u001b[1;33m\u001b[0m\u001b[0m\n\u001b[0;32m    398\u001b[0m             \u001b[1;31m# Encoding\u001b[0m\u001b[1;33m\u001b[0m\u001b[1;33m\u001b[0m\u001b[1;33m\u001b[0m\u001b[0m\n\u001b[1;32m--> 399\u001b[1;33m             \u001b[0mf\u001b[0m \u001b[1;33m=\u001b[0m \u001b[0mopen\u001b[0m\u001b[1;33m(\u001b[0m\u001b[0mpath_or_buf\u001b[0m\u001b[1;33m,\u001b[0m \u001b[0mmode\u001b[0m\u001b[1;33m,\u001b[0m \u001b[0mencoding\u001b[0m\u001b[1;33m=\u001b[0m\u001b[0mencoding\u001b[0m\u001b[1;33m,\u001b[0m \u001b[0mnewline\u001b[0m\u001b[1;33m=\u001b[0m\u001b[1;34m\"\"\u001b[0m\u001b[1;33m)\u001b[0m\u001b[1;33m\u001b[0m\u001b[1;33m\u001b[0m\u001b[0m\n\u001b[0m\u001b[0;32m    400\u001b[0m         \u001b[1;32melif\u001b[0m \u001b[0mis_text\u001b[0m\u001b[1;33m:\u001b[0m\u001b[1;33m\u001b[0m\u001b[1;33m\u001b[0m\u001b[0m\n\u001b[0;32m    401\u001b[0m             \u001b[1;31m# No explicit encoding\u001b[0m\u001b[1;33m\u001b[0m\u001b[1;33m\u001b[0m\u001b[1;33m\u001b[0m\u001b[0m\n",
      "\u001b[1;31mPermissionError\u001b[0m: [Errno 13] Permission denied: 'active_location.csv'"
     ]
    }
   ],
   "source": [
    "active_location.to_csv(\"active_location.csv\")"
   ]
  },
  {
   "cell_type": "markdown",
   "metadata": {},
   "source": [
    "#### For loop to build zipcode level dataframes of parking_garage and  active_location \n",
    "\n",
    "#### Left merge all parking_garage and active_location zip code files on address\n",
    "- Do this twice: once including all matches and once with non-matches\n",
    "- For all active_location zip codes with no matches, dump in another dataset\n",
    "\n",
    "#### Combine matched and unmatched into single dataset"
   ]
  },
  {
   "cell_type": "code",
   "execution_count": 61,
   "metadata": {},
   "outputs": [
    {
     "data": {
      "text/html": [
       "<div>\n",
       "<style scoped>\n",
       "    .dataframe tbody tr th:only-of-type {\n",
       "        vertical-align: middle;\n",
       "    }\n",
       "\n",
       "    .dataframe tbody tr th {\n",
       "        vertical-align: top;\n",
       "    }\n",
       "\n",
       "    .dataframe thead th {\n",
       "        text-align: right;\n",
       "    }\n",
       "</style>\n",
       "<table border=\"1\" class=\"dataframe\">\n",
       "  <thead>\n",
       "    <tr style=\"text-align: right;\">\n",
       "      <th></th>\n",
       "      <th>Address ZIP</th>\n",
       "      <th>Borough Code</th>\n",
       "    </tr>\n",
       "  </thead>\n",
       "  <tbody>\n",
       "    <tr>\n",
       "      <td>count</td>\n",
       "      <td>1790.000000</td>\n",
       "      <td>1756.000000</td>\n",
       "    </tr>\n",
       "    <tr>\n",
       "      <td>mean</td>\n",
       "      <td>10351.874302</td>\n",
       "      <td>1.675399</td>\n",
       "    </tr>\n",
       "    <tr>\n",
       "      <td>std</td>\n",
       "      <td>562.108860</td>\n",
       "      <td>1.049482</td>\n",
       "    </tr>\n",
       "    <tr>\n",
       "      <td>min</td>\n",
       "      <td>0.000000</td>\n",
       "      <td>1.000000</td>\n",
       "    </tr>\n",
       "    <tr>\n",
       "      <td>25%</td>\n",
       "      <td>10019.000000</td>\n",
       "      <td>1.000000</td>\n",
       "    </tr>\n",
       "    <tr>\n",
       "      <td>50%</td>\n",
       "      <td>10034.000000</td>\n",
       "      <td>1.000000</td>\n",
       "    </tr>\n",
       "    <tr>\n",
       "      <td>75%</td>\n",
       "      <td>10459.000000</td>\n",
       "      <td>2.000000</td>\n",
       "    </tr>\n",
       "    <tr>\n",
       "      <td>max</td>\n",
       "      <td>11436.000000</td>\n",
       "      <td>5.000000</td>\n",
       "    </tr>\n",
       "  </tbody>\n",
       "</table>\n",
       "</div>"
      ],
      "text/plain": [
       "        Address ZIP  Borough Code\n",
       "count   1790.000000   1756.000000\n",
       "mean   10351.874302      1.675399\n",
       "std      562.108860      1.049482\n",
       "min        0.000000      1.000000\n",
       "25%    10019.000000      1.000000\n",
       "50%    10034.000000      1.000000\n",
       "75%    10459.000000      2.000000\n",
       "max    11436.000000      5.000000"
      ]
     },
     "execution_count": 61,
     "metadata": {},
     "output_type": "execute_result"
    }
   ],
   "source": [
    "parking_garage.describe()"
   ]
  },
  {
   "cell_type": "code",
   "execution_count": 62,
   "metadata": {
    "scrolled": true
   },
   "outputs": [
    {
     "data": {
      "text/plain": [
       "array([10021., 11249., 11201., 10069., 11432., 11377., 10040., 10003.,\n",
       "       10012., 10011., 10001., 10065., 10032., 10005., 11206., 11101.,\n",
       "       10019., 10016., 11215., 11235., 11354., 10006., 10009., 11217.,\n",
       "       11385., 10128., 10036., 10033., 10038., 10075., 11373., 10025.,\n",
       "       11211., 10457., 10452., 10453., 10463., 10458., 10013., 11238.,\n",
       "       10014., 11375., 11435., 10023., 11360., 10022., 10451., 11205.,\n",
       "       10028., 11209., 10018., 10024., 10475., 11372., 10004., 11368.,\n",
       "       11105., 10035., 10017., 11374., 10026., 10456., 10461., 11222.,\n",
       "       10010., 10007., 11231., 10459., 10460., 10468., 10282., 10020.,\n",
       "       11102., 10280., 11208., 10002.,    nan, 10304., 10034., 11224.,\n",
       "       10462., 10455., 10037., 11430., 10027., 10031., 11216., 10029.,\n",
       "       11418., 11226., 10166., 11040., 11433., 11109., 10454., 10152.,\n",
       "       11369., 11355., 11220., 11416., 11225., 11423., 11212., 11417.,\n",
       "       11218., 11434., 10030., 11234., 11106., 10153., 11207., 11221.,\n",
       "       10172., 10474., 11104., 11210., 11357., 10469., 10178., 10467.,\n",
       "       10039., 10155., 11436., 10044.,     0., 10154., 10281., 11232.,\n",
       "       10119., 10103., 11213., 11366., 10301.])"
      ]
     },
     "execution_count": 62,
     "metadata": {},
     "output_type": "execute_result"
    }
   ],
   "source": [
    "parking_garage['Address ZIP'].unique()"
   ]
  },
  {
   "cell_type": "code",
   "execution_count": 70,
   "metadata": {},
   "outputs": [],
   "source": [
    "# https://datatofish.com/integers-to-strings-dataframe/\n",
    "\n",
    "parking_garage['Address ZIP'] = parking_garage['Address ZIP'].apply(str).str[:5]"
   ]
  },
  {
   "cell_type": "code",
   "execution_count": 71,
   "metadata": {},
   "outputs": [
    {
     "data": {
      "text/html": [
       "<div>\n",
       "<style scoped>\n",
       "    .dataframe tbody tr th:only-of-type {\n",
       "        vertical-align: middle;\n",
       "    }\n",
       "\n",
       "    .dataframe tbody tr th {\n",
       "        vertical-align: top;\n",
       "    }\n",
       "\n",
       "    .dataframe thead th {\n",
       "        text-align: right;\n",
       "    }\n",
       "</style>\n",
       "<table border=\"1\" class=\"dataframe\">\n",
       "  <thead>\n",
       "    <tr style=\"text-align: right;\">\n",
       "      <th></th>\n",
       "      <th>Location</th>\n",
       "      <th>Name</th>\n",
       "      <th>Phone 1</th>\n",
       "      <th>Address 1</th>\n",
       "      <th>City</th>\n",
       "      <th>State</th>\n",
       "      <th>ZIP Code</th>\n",
       "      <th>Software</th>\n",
       "      <th>Zone</th>\n",
       "      <th>OS Version</th>\n",
       "    </tr>\n",
       "  </thead>\n",
       "  <tbody>\n",
       "    <tr>\n",
       "      <td>count</td>\n",
       "      <td>842</td>\n",
       "      <td>842</td>\n",
       "      <td>737</td>\n",
       "      <td>838</td>\n",
       "      <td>837</td>\n",
       "      <td>837</td>\n",
       "      <td>836</td>\n",
       "      <td>827</td>\n",
       "      <td>842</td>\n",
       "      <td>98</td>\n",
       "    </tr>\n",
       "    <tr>\n",
       "      <td>unique</td>\n",
       "      <td>842</td>\n",
       "      <td>790</td>\n",
       "      <td>725</td>\n",
       "      <td>828</td>\n",
       "      <td>30</td>\n",
       "      <td>8</td>\n",
       "      <td>123</td>\n",
       "      <td>4</td>\n",
       "      <td>17</td>\n",
       "      <td>2</td>\n",
       "    </tr>\n",
       "    <tr>\n",
       "      <td>top</td>\n",
       "      <td>INT343</td>\n",
       "      <td>SP Plus Corporation</td>\n",
       "      <td>617-451-1393</td>\n",
       "      <td>107 West 13th Street</td>\n",
       "      <td>New York</td>\n",
       "      <td>New York</td>\n",
       "      <td>10021</td>\n",
       "      <td>Ultra</td>\n",
       "      <td>East of Central Park</td>\n",
       "      <td>Windows 7</td>\n",
       "    </tr>\n",
       "    <tr>\n",
       "      <td>freq</td>\n",
       "      <td>1</td>\n",
       "      <td>19</td>\n",
       "      <td>6</td>\n",
       "      <td>3</td>\n",
       "      <td>602</td>\n",
       "      <td>756</td>\n",
       "      <td>59</td>\n",
       "      <td>762</td>\n",
       "      <td>147</td>\n",
       "      <td>70</td>\n",
       "    </tr>\n",
       "  </tbody>\n",
       "</table>\n",
       "</div>"
      ],
      "text/plain": [
       "       Location                 Name       Phone 1             Address 1  \\\n",
       "count       842                  842           737                   838   \n",
       "unique      842                  790           725                   828   \n",
       "top      INT343  SP Plus Corporation  617-451-1393  107 West 13th Street   \n",
       "freq          1                   19             6                     3   \n",
       "\n",
       "            City     State ZIP Code Software                  Zone OS Version  \n",
       "count        837       837      836      827                   842         98  \n",
       "unique        30         8      123        4                    17          2  \n",
       "top     New York  New York    10021    Ultra  East of Central Park  Windows 7  \n",
       "freq         602       756       59      762                   147         70  "
      ]
     },
     "execution_count": 71,
     "metadata": {},
     "output_type": "execute_result"
    }
   ],
   "source": [
    "active_location.describe()"
   ]
  },
  {
   "cell_type": "code",
   "execution_count": 72,
   "metadata": {},
   "outputs": [
    {
     "data": {
      "text/plain": [
       "array(['10011', '10024', '10036', '10002', '10463', '10029', '10016',\n",
       "       '10028', '10017', '10065', '07024', '10022', '11374', '10003',\n",
       "       '10039', '10128', '10019', '10026', '10038', '10018', '10021',\n",
       "       '10014', '10068', '11211', '10001', '10075', '10040', '10451',\n",
       "       '10035', '10005', '10471', '11249', '10013', '10025', '11217',\n",
       "       '10032', '11248', '11101', '11201', '11435', '10301', '11372',\n",
       "       '19107', '10462', '10452', '20005', '20036', '20009', '20007',\n",
       "       '20004', '20037', '20006', '20002', '11375', '10007', '10012',\n",
       "       '10020', '07102', '11215-5606', '11207', '11415', '11216', '11355',\n",
       "       '10034', '10166', '10027', '11222', '07030', '07306', '10023',\n",
       "       '08102', '10468', '11225', '11215', '11210', '11238', '10458',\n",
       "       '11432', '10459', '10162', nan, '10010', '10280', '11209', '10037',\n",
       "       '10031', '10454', '10069', '10033', '11205', '10009', '20001',\n",
       "       '11418', '11206', '11373', '02109', '02210', '10004', '10006',\n",
       "       '10155', '10282', '10172', '11231', '11226', '11111', '10457',\n",
       "       '10456', '10461', '11354', '20024', '19103', '11040', '06901',\n",
       "       '07086', '11218', '10154', '11794', '11105', '22209', '20817',\n",
       "       '02113', '02111', '02116', '02110'], dtype=object)"
      ]
     },
     "execution_count": 72,
     "metadata": {},
     "output_type": "execute_result"
    }
   ],
   "source": [
    "active_location['ZIP Code'].unique()"
   ]
  },
  {
   "cell_type": "code",
   "execution_count": 75,
   "metadata": {},
   "outputs": [
    {
     "data": {
      "text/plain": [
       "dict_keys(['parking_garage10301'])"
      ]
     },
     "execution_count": 75,
     "metadata": {},
     "output_type": "execute_result"
    }
   ],
   "source": [
    "# https://stackoverflow.com/questions/40973687/create-new-dataframe-in-pandas-with-dynamic-names-also-add-new-column\n",
    "# https://docs.python.org/2/library/copy.html\n",
    "\n",
    "parking_garage_dict = {}\n",
    "\n",
    "for zip_code in parking_garage['Address ZIP'].unique():\n",
    "    key_name = 'parking_garage'+str(zip_code)\n",
    "    parking_garage_dict[key_name] = copy.deepcopy(parking_garage)\n",
    "    to_change = parking_garage['Address ZIP']= zip_code\n",
    "    parking_garage_dict[key_name].loc[to_change, 'new_col'] = zip_code\n",
    "    \n",
    "parking_garage_dict.keys()"
   ]
  },
  {
   "cell_type": "code",
   "execution_count": 76,
   "metadata": {},
   "outputs": [
    {
     "ename": "SyntaxError",
     "evalue": "invalid syntax (<ipython-input-76-56ec323c89bc>, line 1)",
     "output_type": "error",
     "traceback": [
      "\u001b[1;36m  File \u001b[1;32m\"<ipython-input-76-56ec323c89bc>\"\u001b[1;36m, line \u001b[1;32m1\u001b[0m\n\u001b[1;33m    parking_garage_dict{'parking_garage11368.0'}\u001b[0m\n\u001b[1;37m                       ^\u001b[0m\n\u001b[1;31mSyntaxError\u001b[0m\u001b[1;31m:\u001b[0m invalid syntax\n"
     ]
    }
   ],
   "source": [
    "parking_garage_dict{'parking_garage11368.0'}"
   ]
  },
  {
   "cell_type": "code",
   "execution_count": 77,
   "metadata": {},
   "outputs": [
    {
     "data": {
      "text/plain": [
       "{'parking_garage10301':       DCA License Number License Type License Expiration Date  \\\n",
       " 0            1306493-DCA     Business                 3/31/21   \n",
       " 1            2068286-DCA     Business                 3/31/21   \n",
       " 2            2093168-DCA     Business                 3/31/21   \n",
       " 3            2093213-DCA     Business                 3/31/21   \n",
       " 4            1217500-DCA     Business                12/22/19   \n",
       " ...                  ...          ...                     ...   \n",
       " 1787         0945081-DCA     Business                 3/31/11   \n",
       " 1788         1023251-DCA     Business                 3/31/21   \n",
       " 1789         2086322-DCA     Business                 7/31/19   \n",
       " 1790         1397433-DCA     Business                  7/6/18   \n",
       " 10301                NaN          NaN                     NaN   \n",
       " \n",
       "                                  Business Name Business Name 2  \\\n",
       " 0                    69 ENTERPRISE PARKING LLC             NaN   \n",
       " 1                     2 NORTH 6TH PARKING CORP             NaN   \n",
       " 2                            SYGMA PARKING INC             NaN   \n",
       " 3                     MP 80 DEKALB PARKING LLC             NaN   \n",
       " 4                    220 RIVERSIDE PARKING LLC             NaN   \n",
       " ...                                        ...             ...   \n",
       " 1787   QUEENS OFFICE TOWER LIMITED PARTNERSHIP             NaN   \n",
       " 1788                HUDSON RIVER PARKING CORP.             NaN   \n",
       " 1789             ST GEORGE FERRY PARKING CORP.             NaN   \n",
       " 1790                   800 BRADY PARKING, INC.             NaN   \n",
       " 10301                                      NaN             NaN   \n",
       " \n",
       "       Address Building Address Street Name Secondary Address Street Name  \\\n",
       " 0                  219           E 69TH ST                           NaN   \n",
       " 1                    2            N 6TH ST                           NaN   \n",
       " 2                  219           E 69TH ST                           NaN   \n",
       " 3                   74          DEKALB AVE                           NaN   \n",
       " 4                  220      RIVERSIDE BLVD                           NaN   \n",
       " ...                ...                 ...                           ...   \n",
       " 1787              9525         QUEENS BLVD                           NaN   \n",
       " 1788              3720   HENRY HUDSON PKWY                           NaN   \n",
       " 1789               55B        RICHMOND TER                           NaN   \n",
       " 1790               800           BRADY AVE                           NaN   \n",
       " 10301              NaN                 NaN                           NaN   \n",
       " \n",
       "         Address City Address State Address ZIP Contact Phone Number  \\\n",
       " 0           NEW YORK            NY       10301           2126270012   \n",
       " 1           BROOKLYN            NY       10301           2127367171   \n",
       " 2           NEW YORK            NY       10301           6466008384   \n",
       " 3           BROOKLYN            NY       10301           2124903460   \n",
       " 4           NEW YORK            NY       10301           2126869800   \n",
       " ...              ...           ...         ...                  ...   \n",
       " 1787       REGO PARK            NY       10301           7188309344   \n",
       " 1788           BRONX            NY       10301           2127367171   \n",
       " 1789   STATEN ISLAND            NY       10301         212-736-7171   \n",
       " 1790           BRONX            NY       10301           3478435023   \n",
       " 10301            NaN           NaN         NaN                  NaN   \n",
       " \n",
       "       Address Borough  Borough Code                    Address new_col  \n",
       " 0           Manhattan           1.0       219 east 69th street     NaN  \n",
       " 1            Brooklyn           3.0         2 north 6th street     NaN  \n",
       " 2           Manhattan           1.0       219 east 69th street     NaN  \n",
       " 3            Brooklyn           3.0           74 dekalb avenue     NaN  \n",
       " 4           Manhattan           1.0   220 riverside boulevardd     NaN  \n",
       " ...               ...           ...                        ...     ...  \n",
       " 1787           Queens           4.0     9525 queens boulevardd     NaN  \n",
       " 1788            Bronx           2.0  3720 henry hudson parkway     NaN  \n",
       " 1789    Staten Island           5.0       55b richmond terrace     NaN  \n",
       " 1790            Bronx           2.0           800 brady avenue     NaN  \n",
       " 10301             NaN           NaN                        NaN   10301  \n",
       " \n",
       " [1792 rows x 16 columns]}"
      ]
     },
     "execution_count": 77,
     "metadata": {},
     "output_type": "execute_result"
    }
   ],
   "source": [
    "parking_garage_dict"
   ]
  },
  {
   "cell_type": "code",
   "execution_count": 78,
   "metadata": {},
   "outputs": [
    {
     "ename": "AttributeError",
     "evalue": "'NoneType' object has no attribute 'to_csv'",
     "output_type": "error",
     "traceback": [
      "\u001b[1;31m---------------------------------------------------------------------------\u001b[0m",
      "\u001b[1;31mAttributeError\u001b[0m                            Traceback (most recent call last)",
      "\u001b[1;32m<ipython-input-78-9dfd70a1b4f2>\u001b[0m in \u001b[0;36m<module>\u001b[1;34m\u001b[0m\n\u001b[0;32m      2\u001b[0m \u001b[1;33m\u001b[0m\u001b[0m\n\u001b[0;32m      3\u001b[0m \u001b[1;31m#parking_garage_dict.get('parking_garage10020.0')\u001b[0m\u001b[1;33m\u001b[0m\u001b[1;33m\u001b[0m\u001b[1;33m\u001b[0m\u001b[0m\n\u001b[1;32m----> 4\u001b[1;33m \u001b[0mparking_garage_dict\u001b[0m\u001b[1;33m.\u001b[0m\u001b[0mget\u001b[0m\u001b[1;33m(\u001b[0m\u001b[1;34m'parking_garage10020.0'\u001b[0m\u001b[1;33m)\u001b[0m\u001b[1;33m.\u001b[0m\u001b[0mto_csv\u001b[0m\u001b[1;33m(\u001b[0m\u001b[1;34m'parking_garage10020.csv'\u001b[0m\u001b[1;33m)\u001b[0m\u001b[1;33m\u001b[0m\u001b[1;33m\u001b[0m\u001b[0m\n\u001b[0m",
      "\u001b[1;31mAttributeError\u001b[0m: 'NoneType' object has no attribute 'to_csv'"
     ]
    }
   ],
   "source": [
    "# https://www.datacamp.com/community/tutorials/python-dictionary-tutorial#dictionary_operations\n",
    "\n",
    "#parking_garage_dict.get('parking_garage10020.0')\n",
    "parking_garage_dict.get('parking_garage10020.0').to_csv('parking_garage10020.csv')"
   ]
  },
  {
   "cell_type": "code",
   "execution_count": 79,
   "metadata": {},
   "outputs": [
    {
     "data": {
      "text/plain": [
       "dict_keys(['active_location10011', 'active_location10024', 'active_location10036', 'active_location10002', 'active_location10463', 'active_location10029', 'active_location10016', 'active_location10028', 'active_location10017', 'active_location10065', 'active_location07024', 'active_location10022', 'active_location11374', 'active_location10003', 'active_location10039', 'active_location10128', 'active_location10019', 'active_location10026', 'active_location10038', 'active_location10018', 'active_location10021', 'active_location10014', 'active_location10068', 'active_location11211', 'active_location10001', 'active_location10075', 'active_location10040', 'active_location10451', 'active_location10035', 'active_location10005', 'active_location10471', 'active_location11249', 'active_location10013', 'active_location10025', 'active_location11217', 'active_location10032', 'active_location11248', 'active_location11101', 'active_location11201', 'active_location11435', 'active_location10301', 'active_location11372', 'active_location19107', 'active_location10462', 'active_location10452', 'active_location20005', 'active_location20036', 'active_location20009', 'active_location20007', 'active_location20004', 'active_location20037', 'active_location20006', 'active_location20002', 'active_location11375', 'active_location10007', 'active_location10012', 'active_location10020', 'active_location07102', 'active_location11215-5606', 'active_location11207', 'active_location11415', 'active_location11216', 'active_location11355', 'active_location10034', 'active_location10166', 'active_location10027', 'active_location11222', 'active_location07030', 'active_location07306', 'active_location10023', 'active_location08102', 'active_location10468', 'active_location11225', 'active_location11215', 'active_location11210', 'active_location11238', 'active_location10458', 'active_location11432', 'active_location10459', 'active_location10162', 'active_locationnan', 'active_location10010', 'active_location10280', 'active_location11209', 'active_location10037', 'active_location10031', 'active_location10454', 'active_location10069', 'active_location10033', 'active_location11205', 'active_location10009', 'active_location20001', 'active_location11418', 'active_location11206', 'active_location11373', 'active_location02109', 'active_location02210', 'active_location10004', 'active_location10006', 'active_location10155', 'active_location10282', 'active_location10172', 'active_location11231', 'active_location11226', 'active_location11111', 'active_location10457', 'active_location10456', 'active_location10461', 'active_location11354', 'active_location20024', 'active_location19103', 'active_location11040', 'active_location06901', 'active_location07086', 'active_location11218', 'active_location10154', 'active_location11794', 'active_location11105', 'active_location22209', 'active_location20817', 'active_location02113', 'active_location02111', 'active_location02116', 'active_location02110'])"
      ]
     },
     "execution_count": 79,
     "metadata": {},
     "output_type": "execute_result"
    }
   ],
   "source": [
    "active_location_dict = {}\n",
    "\n",
    "for zip_code in active_location['ZIP Code'].unique():\n",
    "    key_name = 'active_location'+str(zip_code)\n",
    "    active_location_dict[key_name] = copy.deepcopy(active_location)\n",
    "    to_change = active_location['ZIP Code']= zip_code\n",
    "    active_location_dict[key_name].loc[to_change, 'new_col'] = zip_code\n",
    "    \n",
    "active_location_dict.keys()"
   ]
  },
  {
   "cell_type": "code",
   "execution_count": 80,
   "metadata": {},
   "outputs": [
    {
     "ename": "PermissionError",
     "evalue": "[Errno 13] Permission denied: 'active_location10166.csv'",
     "output_type": "error",
     "traceback": [
      "\u001b[1;31m---------------------------------------------------------------------------\u001b[0m",
      "\u001b[1;31mPermissionError\u001b[0m                           Traceback (most recent call last)",
      "\u001b[1;32m<ipython-input-80-ec22626a2c72>\u001b[0m in \u001b[0;36m<module>\u001b[1;34m\u001b[0m\n\u001b[1;32m----> 1\u001b[1;33m \u001b[0mactive_location_dict\u001b[0m\u001b[1;33m.\u001b[0m\u001b[0mget\u001b[0m\u001b[1;33m(\u001b[0m\u001b[1;34m'active_location10166'\u001b[0m\u001b[1;33m)\u001b[0m\u001b[1;33m.\u001b[0m\u001b[0mto_csv\u001b[0m\u001b[1;33m(\u001b[0m\u001b[1;34m'active_location10166.csv'\u001b[0m\u001b[1;33m)\u001b[0m\u001b[1;33m\u001b[0m\u001b[1;33m\u001b[0m\u001b[0m\n\u001b[0m",
      "\u001b[1;32m~\\Anaconda3\\lib\\site-packages\\pandas\\core\\generic.py\u001b[0m in \u001b[0;36mto_csv\u001b[1;34m(self, path_or_buf, sep, na_rep, float_format, columns, header, index, index_label, mode, encoding, compression, quoting, quotechar, line_terminator, chunksize, date_format, doublequote, escapechar, decimal)\u001b[0m\n\u001b[0;32m   3226\u001b[0m             \u001b[0mdecimal\u001b[0m\u001b[1;33m=\u001b[0m\u001b[0mdecimal\u001b[0m\u001b[1;33m,\u001b[0m\u001b[1;33m\u001b[0m\u001b[1;33m\u001b[0m\u001b[0m\n\u001b[0;32m   3227\u001b[0m         )\n\u001b[1;32m-> 3228\u001b[1;33m         \u001b[0mformatter\u001b[0m\u001b[1;33m.\u001b[0m\u001b[0msave\u001b[0m\u001b[1;33m(\u001b[0m\u001b[1;33m)\u001b[0m\u001b[1;33m\u001b[0m\u001b[1;33m\u001b[0m\u001b[0m\n\u001b[0m\u001b[0;32m   3229\u001b[0m \u001b[1;33m\u001b[0m\u001b[0m\n\u001b[0;32m   3230\u001b[0m         \u001b[1;32mif\u001b[0m \u001b[0mpath_or_buf\u001b[0m \u001b[1;32mis\u001b[0m \u001b[1;32mNone\u001b[0m\u001b[1;33m:\u001b[0m\u001b[1;33m\u001b[0m\u001b[1;33m\u001b[0m\u001b[0m\n",
      "\u001b[1;32m~\\Anaconda3\\lib\\site-packages\\pandas\\io\\formats\\csvs.py\u001b[0m in \u001b[0;36msave\u001b[1;34m(self)\u001b[0m\n\u001b[0;32m    181\u001b[0m                 \u001b[0mself\u001b[0m\u001b[1;33m.\u001b[0m\u001b[0mmode\u001b[0m\u001b[1;33m,\u001b[0m\u001b[1;33m\u001b[0m\u001b[1;33m\u001b[0m\u001b[0m\n\u001b[0;32m    182\u001b[0m                 \u001b[0mencoding\u001b[0m\u001b[1;33m=\u001b[0m\u001b[0mself\u001b[0m\u001b[1;33m.\u001b[0m\u001b[0mencoding\u001b[0m\u001b[1;33m,\u001b[0m\u001b[1;33m\u001b[0m\u001b[1;33m\u001b[0m\u001b[0m\n\u001b[1;32m--> 183\u001b[1;33m                 \u001b[0mcompression\u001b[0m\u001b[1;33m=\u001b[0m\u001b[0mself\u001b[0m\u001b[1;33m.\u001b[0m\u001b[0mcompression\u001b[0m\u001b[1;33m,\u001b[0m\u001b[1;33m\u001b[0m\u001b[1;33m\u001b[0m\u001b[0m\n\u001b[0m\u001b[0;32m    184\u001b[0m             )\n\u001b[0;32m    185\u001b[0m             \u001b[0mclose\u001b[0m \u001b[1;33m=\u001b[0m \u001b[1;32mTrue\u001b[0m\u001b[1;33m\u001b[0m\u001b[1;33m\u001b[0m\u001b[0m\n",
      "\u001b[1;32m~\\Anaconda3\\lib\\site-packages\\pandas\\io\\common.py\u001b[0m in \u001b[0;36m_get_handle\u001b[1;34m(path_or_buf, mode, encoding, compression, memory_map, is_text)\u001b[0m\n\u001b[0;32m    397\u001b[0m         \u001b[1;32mif\u001b[0m \u001b[0mencoding\u001b[0m\u001b[1;33m:\u001b[0m\u001b[1;33m\u001b[0m\u001b[1;33m\u001b[0m\u001b[0m\n\u001b[0;32m    398\u001b[0m             \u001b[1;31m# Encoding\u001b[0m\u001b[1;33m\u001b[0m\u001b[1;33m\u001b[0m\u001b[1;33m\u001b[0m\u001b[0m\n\u001b[1;32m--> 399\u001b[1;33m             \u001b[0mf\u001b[0m \u001b[1;33m=\u001b[0m \u001b[0mopen\u001b[0m\u001b[1;33m(\u001b[0m\u001b[0mpath_or_buf\u001b[0m\u001b[1;33m,\u001b[0m \u001b[0mmode\u001b[0m\u001b[1;33m,\u001b[0m \u001b[0mencoding\u001b[0m\u001b[1;33m=\u001b[0m\u001b[0mencoding\u001b[0m\u001b[1;33m,\u001b[0m \u001b[0mnewline\u001b[0m\u001b[1;33m=\u001b[0m\u001b[1;34m\"\"\u001b[0m\u001b[1;33m)\u001b[0m\u001b[1;33m\u001b[0m\u001b[1;33m\u001b[0m\u001b[0m\n\u001b[0m\u001b[0;32m    400\u001b[0m         \u001b[1;32melif\u001b[0m \u001b[0mis_text\u001b[0m\u001b[1;33m:\u001b[0m\u001b[1;33m\u001b[0m\u001b[1;33m\u001b[0m\u001b[0m\n\u001b[0;32m    401\u001b[0m             \u001b[1;31m# No explicit encoding\u001b[0m\u001b[1;33m\u001b[0m\u001b[1;33m\u001b[0m\u001b[1;33m\u001b[0m\u001b[0m\n",
      "\u001b[1;31mPermissionError\u001b[0m: [Errno 13] Permission denied: 'active_location10166.csv'"
     ]
    }
   ],
   "source": [
    "active_location_dict.get('active_location10166').to_csv('active_location10166.csv')"
   ]
  },
  {
   "cell_type": "code",
   "execution_count": null,
   "metadata": {},
   "outputs": [],
   "source": []
  }
 ],
 "metadata": {
  "kernelspec": {
   "display_name": "Python 3",
   "language": "python",
   "name": "python3"
  },
  "language_info": {
   "codemirror_mode": {
    "name": "ipython",
    "version": 3
   },
   "file_extension": ".py",
   "mimetype": "text/x-python",
   "name": "python",
   "nbconvert_exporter": "python",
   "pygments_lexer": "ipython3",
   "version": "3.7.4"
  }
 },
 "nbformat": 4,
 "nbformat_minor": 2
}
